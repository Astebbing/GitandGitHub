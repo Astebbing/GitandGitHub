{
 "cells": [
  {
   "cell_type": "markdown",
   "id": "4f701495",
   "metadata": {},
   "source": [
    "## Automatic File Sorter\n",
    "\n",
    "For this project I created a basic file sorter, with logic for creating the necessary folders if they do not already exist, and then moving the files within that folder to the appropriate sub-folder based on the file name containg the string '.csv', '.png', or '.txt'. "
   ]
  },
  {
   "cell_type": "code",
   "execution_count": 17,
   "id": "9f5b214f",
   "metadata": {},
   "outputs": [],
   "source": [
    "import os\n",
    "import shutil"
   ]
  },
  {
   "cell_type": "code",
   "execution_count": 18,
   "id": "b68b0704",
   "metadata": {},
   "outputs": [],
   "source": [
    "# Define the base path and folder names\n",
    "path = r'C:\\Users\\aaron\\.git\\My_Portfolio_Projects\\Automatic_File_Sorter\\\\'\n",
    "folder_names = ['CSV Files', 'Text Files', 'Image Files']\n",
    "\n",
    "# Check whether folder exists\n",
    "for folder in folder_names:\n",
    "    if not os.path.exists(path + folder):\n",
    "        os.makedirs(path + folder)"
   ]
  },
  {
   "cell_type": "code",
   "execution_count": 19,
   "id": "ab350032",
   "metadata": {},
   "outputs": [
    {
     "data": {
      "text/plain": [
       "['CSV Files', 'Image Files', 'Text Files']"
      ]
     },
     "execution_count": 19,
     "metadata": {},
     "output_type": "execute_result"
    }
   ],
   "source": [
    "# Check the files in the directory\n",
    "os.listdir(path)"
   ]
  },
  {
   "cell_type": "code",
   "execution_count": null,
   "id": "7dcf53e8",
   "metadata": {},
   "outputs": [],
   "source": [
    "# Loop through files in path and move to appropriate sub-folder\n",
    "file_names = os.listdir(path)\n",
    "\n",
    "for file in file_names:\n",
    "    if \".csv\" in file and not os.path.exists(path + \"CSV Files\\\\\" + file):\n",
    "        shutil.move(path + file, path + \"CSV Files\\\\\" + file)\n",
    "    elif \".png\" in file and not os.path.exists(path + \"Image Files\\\\\" + file):\n",
    "        shutil.move(path + file, path + \"Image Files\\\\\" + file)\n",
    "    elif \".txt\" in file and not os.path.exists(path + \"Text Files\\\\\" + file):\n",
    "        shutil.move(path + file, path + \"Text Files\\\\\" + file)"
   ]
  },
  {
   "cell_type": "code",
   "execution_count": 21,
   "id": "d0ebfd86",
   "metadata": {},
   "outputs": [
    {
     "data": {
      "text/plain": [
       "['CSV Files', 'Image Files', 'Text Files']"
      ]
     },
     "execution_count": 21,
     "metadata": {},
     "output_type": "execute_result"
    }
   ],
   "source": [
    "# Check the files in the directory again after moving the files\n",
    "os.listdir(path)"
   ]
  },
  {
   "cell_type": "markdown",
   "id": "1adb0d28",
   "metadata": {},
   "source": [
    "### Future Enhancements / Changes\n",
    "\n",
    "- Add automation to run script on folder every 30 or 60 minutes\n",
    "- Expand script to include other file types in sorting logic\n",
    "- Further expand script to add granular sorting within the created folders based off of other criteria in the file name (e.g. Image Files > Landscape Photography using \"landscape\", or Text Files > Reports using \"report\")\n"
   ]
  }
 ],
 "metadata": {
  "kernelspec": {
   "display_name": "Python 3",
   "language": "python",
   "name": "python3"
  },
  "language_info": {
   "codemirror_mode": {
    "name": "ipython",
    "version": 3
   },
   "file_extension": ".py",
   "mimetype": "text/x-python",
   "name": "python",
   "nbconvert_exporter": "python",
   "pygments_lexer": "ipython3",
   "version": "3.11.9"
  }
 },
 "nbformat": 4,
 "nbformat_minor": 5
}
