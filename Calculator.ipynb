{
 "cells": [
  {
   "cell_type": "markdown",
   "id": "2c37ebe3",
   "metadata": {},
   "source": [
    "## Calculator\n",
    "\n",
    "This project entailed creating a functional Python calculator program that could handle basic arithmetic operations. It served as practice defining functions, using a while True loop, and handling user input."
   ]
  },
  {
   "cell_type": "code",
   "execution_count": null,
   "id": "5c13562c",
   "metadata": {},
   "outputs": [],
   "source": [
    "# Arithmetic Operations:\n",
    "def add(x,y):\n",
    "    return x + y\n",
    "\n",
    "def subtract(x,y):\n",
    "    return x - y\n",
    "\n",
    "def multiply(x,y):\n",
    "    return x * y\n",
    "\n",
    "def divide(x,y):\n",
    "    return x / y"
   ]
  },
  {
   "cell_type": "code",
   "execution_count": null,
   "id": "974499e7",
   "metadata": {},
   "outputs": [],
   "source": [
    "# Provide clear user input options for selecting the desired arithmetic operation:\n",
    "print(\"Enter 'A' for Addition\")\n",
    "print(\"Enter 'S' for Subtraction\")\n",
    "print(\"Enter 'M' for Multiplication\")\n",
    "print(\"Enter 'D' for Division\")\n",
    "\n",
    "# Initialize the calculation counter:\n",
    "calculation_number = 0\n",
    "\n",
    "while True:\n",
    "    choice = input('Enter Choice: (A,S,M,D): ')\n",
    "\n",
    "    if choice.upper() in ('A','ADD','ADDITION','S','SUB', 'SUBTRACT','SUBTRACTION','M','MULTIPLY','MULTIPLICATION','D','DIV','DIVIDE','DIVISION'):\n",
    "\n",
    "        calculation_number += 1\n",
    "\n",
    "        num1 = float(input('Enter first number: '))\n",
    "        num2 = float(input('Enter second number: '))\n",
    "\n",
    "        if choice.upper() in ('A','ADD','ADDITION'):\n",
    "            print(f'Calculation {calculation_number}: {num1} + {num2} = {add(num1, num2)}')\n",
    "            print()\n",
    "\n",
    "        elif choice.upper() in ('S','SUB','SUBTRACT','SUBTRACTION'):\n",
    "            print(f'Calculation {calculation_number}: {num1} - {num2} = {subtract(num1,num2)}')\n",
    "            print()\n",
    "\n",
    "        elif choice.upper() in ('M','MULT','MULTIPLY','MULTIPLICATION'):\n",
    "            print(f'Calculation {calculation_number}: {num1} * {num2} = {multiply(num1,num2)}')\n",
    "            print()\n",
    "\n",
    "        elif choice.upper() in ('D','DIV','DIVIDE','DIVISION'):\n",
    "            print(f'Calculation {calculation_number}: {num1} / {num2} = {divide(num1,num2)}')\n",
    "            print()\n",
    "\n",
    "    else:\n",
    "        print('Please choose a valid mathematical operator.')\n",
    "    \n",
    "    # Prompt the user for another calculation, or exit the loop if they enter 'n' or 'no'. \n",
    "    next_calculation = input(\"Would you like to run another calculation? (Yes/No): \")\n",
    "    if next_calculation.lower() in ('n','no'):\n",
    "        print(\"Goodbye! To perform another calculation, please re-run the program.\")\n",
    "        break"
   ]
  }
 ],
 "metadata": {
  "kernelspec": {
   "display_name": "Python 3",
   "language": "python",
   "name": "python3"
  },
  "language_info": {
   "codemirror_mode": {
    "name": "ipython",
    "version": 3
   },
   "file_extension": ".py",
   "mimetype": "text/x-python",
   "name": "python",
   "nbconvert_exporter": "python",
   "pygments_lexer": "ipython3",
   "version": "3.11.9"
  }
 },
 "nbformat": 4,
 "nbformat_minor": 5
}
