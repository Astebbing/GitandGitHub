{
 "cells": [
  {
   "cell_type": "markdown",
   "id": "2c37ebe3",
   "metadata": {},
   "source": [
    "## Calculator"
   ]
  },
  {
   "cell_type": "code",
   "execution_count": 43,
   "id": "5c13562c",
   "metadata": {},
   "outputs": [],
   "source": [
    "def add(x,y):\n",
    "    return x + y\n",
    "\n",
    "def subtract(x,y):\n",
    "    return x - y\n",
    "\n",
    "def multiply(x,y):\n",
    "    return x * y\n",
    "\n",
    "def divide(x,y):\n",
    "    return x / y"
   ]
  },
  {
   "cell_type": "code",
   "execution_count": null,
   "id": "974499e7",
   "metadata": {},
   "outputs": [
    {
     "name": "stdout",
     "output_type": "stream",
     "text": [
      "3.6458 * 2.0 = 7.2916\n"
     ]
    }
   ],
   "source": [
    "choice = input('Enter Choice: (A,S,M,D): ')\n",
    "\n",
    "if choice.upper() in ('A','ADD','ADDITION','S','SUB', 'SUBTRACT','SUBTRACTION','M','MULTIPLY','MULTIPLICATION','D','DIV','DIVIDE','DIVISION'):\n",
    "    num1 = float(input('Enter first number: '))\n",
    "    num2 = float(input('Enter second number'))\n",
    "\n",
    "    if choice.upper() in ('A','ADD','ADDITION'):\n",
    "        print(num1, '+', num2, '=', add(num1,num2))\n",
    "\n",
    "    elif choice.upper() in ('S','SUB','SUBTRACT','SUBTRACTION'):\n",
    "        print(num1, '-', num2, '=', subtract(num1,num2))\n",
    "\n",
    "    elif choice.upper() in ('M','MULT','MULTIPLY','MULTIPLICATION'):\n",
    "        print(num1, '*', num2, '=', multiply(num1,num2))\n",
    "\n",
    "    elif choice.upper() in ('D','DIV','DIVIDE','DIVISION'):\n",
    "        print(num1, '/', num2, '=', divide(num1,num2))\n",
    "\n",
    "else:\n",
    "    print('Please choose a valid mathematical opperator.')"
   ]
  }
 ],
 "metadata": {
  "kernelspec": {
   "display_name": "Python 3",
   "language": "python",
   "name": "python3"
  },
  "language_info": {
   "codemirror_mode": {
    "name": "ipython",
    "version": 3
   },
   "file_extension": ".py",
   "mimetype": "text/x-python",
   "name": "python",
   "nbconvert_exporter": "python",
   "pygments_lexer": "ipython3",
   "version": "3.11.9"
  }
 },
 "nbformat": 4,
 "nbformat_minor": 5
}
